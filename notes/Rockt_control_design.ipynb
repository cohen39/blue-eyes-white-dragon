{
 "cells": [
  {
   "cell_type": "code",
   "execution_count": 1,
   "metadata": {},
   "outputs": [],
   "source": [
    "import casadi as ca\n",
    "import numpy as np\n",
    "import sys\n",
    "import control\n",
    "\n",
    "sys.path.insert(0, '../python/pyecca/')\n",
    "\n",
    "import matplotlib.pyplot as plt\n",
    "import pyecca.lie.so3 as so3\n",
    "from pyecca.util import rk4\n",
    "\n",
    "\n",
    "def u_to_fin(u):\n",
    "    ail = u[1]\n",
    "    elv = u[2]\n",
    "    rdr = u[3]\n",
    "    # top, left, down right\n",
    "    return ca.vertcat(ail - rdr, ail - elv, ail + rdr, ail + elv)\n",
    " \n",
    "\n",
    "def rocket_equations(jit=True):\n",
    "    x = ca.SX.sym('x', 14)\n",
    "    u = ca.SX.sym('u', 4)\n",
    "    p = ca.SX.sym('p', 16)\n",
    "    t = ca.SX.sym('t')\n",
    "    dt = ca.SX.sym('dt')\n",
    "\n",
    "    # State: x\n",
    "    # body frame: Forward, Right, Down\n",
    "    omega_b = x[0:3]  # inertial angular velocity expressed in body frame\n",
    "    r_nb = x[3:7]  # modified rodrigues parameters\n",
    "    v_b = x[7:10]  # inertial velocity expressed in body components\n",
    "    p_n = x[10:13]  # positon in nav frame\n",
    "    m_fuel = x[13]  # mass\n",
    "    \n",
    "    # Input: u\n",
    "    m_dot = ca.if_else(m_fuel > 0, u[0], 0)\n",
    "    fin = u_to_fin(u)\n",
    "    \n",
    "    # Parameters: p\n",
    "    g = p[0]  # gravity\n",
    "    Jx = p[1]  # moment of inertia\n",
    "    Jy = p[2]\n",
    "    Jz = p[3]\n",
    "    Jxz = p[4]\n",
    "    ve = p[5]\n",
    "    l_fin = p[6]\n",
    "    w_fin = p[7]\n",
    "    CL_alpha = p[8]\n",
    "    CL0 = p[9]\n",
    "    CD0 = p[10]\n",
    "    K = p[11]\n",
    "    s_fin = p[12]\n",
    "    rho = p[13]\n",
    "    m_empty = p[14]\n",
    "    l_motor = p[15]\n",
    "    \n",
    "    # Calculations\n",
    "    m = m_empty + m_fuel\n",
    "    J_b = ca.SX.zeros(3, 3)\n",
    "    J_b[0, 0] = Jx + m_fuel*l_motor**2\n",
    "    J_b[1, 1] = Jy + m_fuel*l_motor**2\n",
    "    J_b[2, 2] = Jz\n",
    "    J_b[0, 2] = J_b[2, 0] = Jxz\n",
    "\n",
    "    C_nb = so3.Dcm.from_mrp(r_nb)\n",
    "    g_n = ca.vertcat(0, 0, g)\n",
    "    v_n = ca.mtimes(C_nb, v_b)\n",
    "    \n",
    "    # aerodynamics\n",
    "    VT = ca.norm_2(v_b)\n",
    "    q = 0.5*rho*ca.dot(v_b, v_b)\n",
    "    fins = {\n",
    "        'top': {\n",
    "            'fwd': [1, 0, 0],\n",
    "            'up': [0, 1, 0],\n",
    "            'angle': fin[0]\n",
    "        },\n",
    "        'left': {\n",
    "            'fwd': [1, 0, 0],\n",
    "            'up': [0, 0, -1],\n",
    "            'angle': fin[1]\n",
    "        },\n",
    "        'down': {\n",
    "            'fwd': [1, 0, 0],\n",
    "            'up': [0, -1, 0],\n",
    "            'angle': fin[2]\n",
    "        },\n",
    "        'right': {\n",
    "            'fwd': [1, 0, 0],\n",
    "            'up': [0, 0, 1],\n",
    "            'angle': fin[3]\n",
    "        },\n",
    "    }\n",
    "    rel_wind_dir = v_b/VT\n",
    "\n",
    "    # build fin lift/drag forces\n",
    "    vel_tol = 1e-3\n",
    "    FA_b = ca.vertcat(0, 0, 0)\n",
    "    MA_b = ca.vertcat(0, 0, 0)\n",
    "    for key, data in fins.items():\n",
    "        fwd = data['fwd']\n",
    "        up = data['up']\n",
    "        angle = data['angle']\n",
    "        U = ca.dot(fwd, v_b)\n",
    "        W = ca.dot(up, v_b)\n",
    "        side = ca.cross(fwd, up)\n",
    "        alpha = ca.if_else(ca.fabs(U) > vel_tol, -ca.atan(W/U), 0)\n",
    "        perp_wind_dir = ca.cross(side, rel_wind_dir)\n",
    "        norm_perp = ca.norm_2(perp_wind_dir)\n",
    "        perp_wind_dir = ca.if_else(ca.fabs(norm_perp) > vel_tol, \n",
    "            perp_wind_dir/norm_perp, up)\n",
    "        CL = CL0 + CL_alpha*(alpha + angle)\n",
    "        CD = CD0 + K*(CL - CL0)**2\n",
    "        # model stall as no lift if above 23 deg.\n",
    "        L = ca.if_else(ca.fabs(alpha)<0.4, CL*q*s_fin, 0)\n",
    "        D = CD*q*s_fin\n",
    "        FAi_b = L*perp_wind_dir - D*rel_wind_dir\n",
    "        FA_b += FAi_b\n",
    "        MA_b += ca.cross(-l_fin*fwd - w_fin*side, FAi_b)\n",
    "\n",
    "    FA_b = ca.if_else(ca.fabs(VT) > vel_tol, FA_b, ca.SX.zeros(3))\n",
    "    MA_b = ca.if_else(ca.fabs(VT) > vel_tol, MA_b, ca.SX.zeros(3))\n",
    "\n",
    "    # propulsion\n",
    "    FP_b = ca.vertcat(m_dot*ve, 0, 0)\n",
    "    \n",
    "    # force and momental total\n",
    "    F_b = FA_b + FP_b + ca.mtimes(C_nb.T, m*g_n)\n",
    "    M_b = MA_b\n",
    "\n",
    "    force_moment = ca.Function(\n",
    "        'force_moment', [x, u, p], [F_b, M_b], ['x', 'u', 'p'], ['F_b', 'M_b'])\n",
    "    \n",
    "    \n",
    "    # right hand side\n",
    "    rhs = ca.Function('rhs', [x, u, p], [ca.vertcat(\n",
    "        ca.mtimes(ca.inv(J_b), M_b - ca.cross(omega_b, ca.mtimes(J_b, omega_b))),\n",
    "        so3.Mrp.kinematics(r_nb, omega_b),\n",
    "        F_b/m - ca.cross(omega_b, v_b),\n",
    "        ca.mtimes(C_nb, v_b), -m_dot)], ['x', 'u', 'p'], ['rhs'], {'jit': jit})\n",
    "\n",
    "    # prediction\n",
    "    t0 = ca.SX.sym('t0')\n",
    "    h = ca.SX.sym('h')\n",
    "    x0 = ca.SX.sym('x', 14)\n",
    "    x1 = rk4(lambda t, x: rhs(x, u, p), t0, x0, h)\n",
    "    x1[3:7] = so3.Mrp.shadow_if_necessary(x1[3:7])\n",
    "    predict = ca.Function('predict', [x0, u, p, t0, h], [x1], {'jit': jit})\n",
    "\n",
    "    def schedule(t, start, ty_pairs):\n",
    "        val = start\n",
    "        for ti, yi in ty_pairs:\n",
    "            val = ca.if_else(t > ti, yi, val)\n",
    "        return val\n",
    "\n",
    "    # reference trajectory\n",
    "    pitch_d = 1.0\n",
    "\n",
    "    euler = so3.Euler.from_mrp(r_nb) # roll, pitch, yaw\n",
    "    pitch = euler[1]\n",
    "\n",
    "    # control\n",
    "    u_control = ca.SX.zeros(4)\n",
    "    # these controls are just test controls to make sure the fins are working\n",
    "    u_control[0] = 0.1  # mass flow rate\n",
    "    u_control[1] = 0\n",
    "    u_control[2] = (pitch - 1)\n",
    "    u_control[3] = 0\n",
    "    control = ca.Function('control', [x, p, t, dt], [u_control],\n",
    "        ['x', 'p', 't', 'dt'], ['u'])\n",
    "\n",
    "    # initialize\n",
    "    pitch_deg = ca.SX.sym('pitch_deg')\n",
    "    omega0_b = ca.vertcat(0, 0, 0)\n",
    "    r0_nb = so3.Mrp.from_euler(ca.vertcat(0, pitch_deg*ca.pi/180, 0))\n",
    "    v0_b = ca.vertcat(0, 0, 0)\n",
    "    p0_n = ca.vertcat(0, 0, 0)\n",
    "    m0_fuel = 0.8\n",
    "    # x: omega_b, r_nb, v_b, p_n, m_fuel\n",
    "    x0 = ca.vertcat(omega0_b, r0_nb, v0_b, p0_n, m0_fuel)\n",
    "    #     g, Jx, Jy, Jz, Jxz, ve, l_fin, w_fin, CL_alpha, CL0, CD0, K, s, rho, m_emptpy, l_motor\n",
    "    p0 = [9.8, 0.05, 1.0, 1.0, 0.0, 350, 1.0, 0.05, 2*np.pi, 0, 0.01, 0.01, 0.05, 1.225, 0.2, 1.0]\n",
    "    initialize = ca.Function('initialize', [pitch_deg], [x0, p0])\n",
    "\n",
    "    return {\n",
    "        'rhs': rhs,\n",
    "        'predict': predict,\n",
    "        'control': control,\n",
    "        'initialize': initialize,\n",
    "        'force_moment': force_moment,\n",
    "        'x': x,\n",
    "        'u': u,\n",
    "        'p': p\n",
    "    }\n",
    "    return rhs, x, u, p\n",
    "\n",
    "\n",
    "def analyze_data(data):\n",
    "    plt.figure(figsize=(20, 20))\n",
    "    plt.subplot(331)\n",
    "    plt.title('fuel')\n",
    "    plt.plot(data['t'], data['x'][:, 13])\n",
    "    plt.xlabel('t, sec')\n",
    "    plt.ylabel('mass, kg')\n",
    "    plt.grid()\n",
    "\n",
    "    plt.subplot(332)\n",
    "    #plt.title('velocity')\n",
    "    plt.plot(data['t'], data['x'][:, 7], label='x')\n",
    "    plt.plot(data['t'], data['x'][:, 8], label='y')\n",
    "    plt.plot(data['t'], data['x'][:, 9], label='z')\n",
    "    plt.xlabel('t, sec')\n",
    "    plt.ylabel('body velocity, m/s')\n",
    "    plt.grid()\n",
    "    plt.legend()\n",
    "    \n",
    "    plt.subplot(333)\n",
    "    euler = np.array(\n",
    "        [np.array(ca.DM(so3.Euler.from_mrp(x))).reshape(-1) for x in data['x'][:, 3:7]])\n",
    "    plt.plot(data['t'], np.rad2deg(euler[:, 0]), label='roll')\n",
    "    plt.plot(data['t'], np.rad2deg(euler[:, 1]), label='pitch')\n",
    "    plt.plot(data['t'], np.rad2deg(euler[:, 2]), label='yaw')\n",
    "    plt.legend()\n",
    "    plt.grid()\n",
    "    plt.xlabel('t, sec')\n",
    "    plt.ylabel('euler angles, deg')\n",
    "    #plt.title('euler')\n",
    "    \n",
    "    plt.subplot(334)\n",
    "    #plt.title('angular velocity')\n",
    "    plt.plot(data['t'], data['x'][:, 0], label='x')\n",
    "    plt.plot(data['t'], data['x'][:, 1], label='y')\n",
    "    plt.plot(data['t'], data['x'][:, 2], label='z')\n",
    "    plt.xlabel('t, sec')\n",
    "    plt.ylabel('angular velocity, rad/s')\n",
    "    plt.grid()\n",
    "    plt.legend()\n",
    "    \n",
    "    plt.subplot(335)\n",
    "    #plt.title('trajectory [side]')\n",
    "    plt.plot(data['x'][:, 10], -data['x'][:, 12])\n",
    "    plt.xlabel('North, m')\n",
    "    plt.ylabel('Altitude, m')\n",
    "    plt.axis('equal')\n",
    "    plt.grid()\n",
    "    \n",
    "    plt.subplot(336)\n",
    "    #plt.title('trajectory [top]')\n",
    "    plt.plot(data['x'][:, 11], data['x'][:, 10])\n",
    "    plt.xlabel('East, m')\n",
    "    plt.ylabel('North, m')\n",
    "    plt.axis('equal')\n",
    "    plt.grid()\n",
    "\n",
    "    plt.subplot(337)\n",
    "    #plt.title('control input')\n",
    "    plt.plot(data['t'], data['u'][:, 0], label='mdot')\n",
    "    plt.plot(data['t'], data['u'][:, 1], label='aileron')\n",
    "    plt.plot(data['t'], data['u'][:, 2], label='elevator')\n",
    "    plt.plot(data['t'], data['u'][:, 3], label='rudder')\n",
    "    plt.xlabel('t, sec')\n",
    "    plt.ylabel('control')\n",
    "    plt.legend()\n",
    "    plt.grid()\n",
    "\n",
    "\n",
    "def simulate(rocket, x0, p0, dt=0.005, t0=0, tf=5):\n",
    "    \"\"\"\n",
    "    An integrator using a fixed step runge-kutta approach.\n",
    "    \"\"\"\n",
    "    x = x0\n",
    "    u = rocket['control'](x0, p0, t0, dt)\n",
    "    data = {\n",
    "        't': [],\n",
    "        'x': [],\n",
    "        'u': []\n",
    "    }\n",
    "    for t in np.arange(t0, tf, dt):\n",
    "        data['t'].append(t)\n",
    "        data['x'].append(np.array(x).reshape(-1))\n",
    "        data['u'].append(np.array(u).reshape(-1))\n",
    "        u = rocket['control'](x, p0, t, dt)\n",
    "        x = rocket['predict'](x, u, p0, t, dt)\n",
    "   \n",
    "    for k in data.keys():\n",
    "        data[k] = np.array(data[k])\n",
    "    return data\n",
    "\n",
    "\n",
    "def gazebo_equations():\n",
    "    # gazebo variables that you want to pass in\n",
    "    omega_FLT = ca.SX.sym('omega_FLT', 3)\n",
    "    pos_ENU = ca.SX.sym('pos_ENU', 3)\n",
    "    vel_FLT = ca.SX.sym('vel_FLT', 3)\n",
    "    q_ENU_FLT = ca.SX.sym('q_ENU_FLT', 4)\n",
    "    m_fuel = ca.SX.sym('m_fuel')\n",
    "    x_gz = ca.vertcat(omega_FLT, q_ENU_FLT, vel_FLT, pos_ENU, m_fuel)\n",
    "    \n",
    "    p = ca.SX.sym('p', 15)\n",
    "    u = ca.SX.sym('u', 4)\n",
    "\n",
    "    C_NED_ENU = np.array([\n",
    "        #E  N   U\n",
    "        [0, 1,  0], # N\n",
    "        [1, 0,  0], # E\n",
    "        [0, 0, -1]  # D\n",
    "    ])\n",
    "\n",
    "    C_FLT_FRB = np.array([\n",
    "        #F   R  B\n",
    "        [1,  0, 0],  # F\n",
    "        [0, -1, 0],  # L\n",
    "        [0,  0, -1]   # T\n",
    "    ])\n",
    "    \n",
    "    C_ENU_FLT = so3.Dcm.from_quat(q_ENU_FLT)\n",
    "    r_NED_FRB = so3.Mrp.from_dcm(ca.mtimes([C_NED_ENU, C_ENU_FLT, C_FLT_FRB]))\n",
    "    \n",
    "    omega_FRB = ca.mtimes(C_FLT_FRB.T, omega_FLT)\n",
    "    pos_NED = ca.mtimes(C_NED_ENU, pos_ENU)\n",
    "    vel_FRB = ca.mtimes(C_FLT_FRB.T, vel_FLT)\n",
    "    \n",
    "    x = ca.vertcat(omega_FRB, r_NED_FRB, vel_FRB, pos_NED, m_fuel)\n",
    "    state_from_gz = ca.Function('state_from_gz', [x_gz], [x], ['x_gz'], ['x'])\n",
    "    return {\n",
    "        'state_from_gz': state_from_gz,\n",
    "        'C_NED_ENU': C_NED_ENU,\n",
    "        'C_FLT_FRB': C_FLT_FRB\n",
    "    }\n",
    "\n",
    "\n",
    "def code_generation():\n",
    "    x = ca.SX.sym('x', 14)\n",
    "    x_gz = ca.SX.sym('x_gz', 14)\n",
    "    p = ca.SX.sym('p', 16)\n",
    "    u = ca.SX.sym('u', 4)\n",
    "    t = ca.SX.sym('t')\n",
    "    dt = ca.SX.sym('dt')\n",
    "    gz_eqs = gazebo_equations()\n",
    "    f_state = gz_eqs['state_from_gz']\n",
    "    eqs = rocket_equations()\n",
    "    C_FLT_FRB = gz_eqs['C_FLT_FRB']\n",
    "    F_FRB, M_FRB = eqs['force_moment'](x, u, p)\n",
    "    F_FLT = ca.mtimes(C_FLT_FRB, F_FRB)\n",
    "    M_FLT = ca.mtimes(C_FLT_FRB, M_FRB)\n",
    "    f_u_to_fin = ca.Function('rocket_u_to_fin', [u], [u_to_fin(u)], ['u'], ['fin'])\n",
    "    f_force_moment = ca.Function('rocket_force_moment',\n",
    "        [x, u, p], [F_FLT, M_FLT], ['x', 'u', 'p'], ['F_FLT', 'M_FLT'])\n",
    "    u_control = eqs['control'](x, p, t, dt)\n",
    "    f_control = ca.Function('rocket_control', [x, p, t, dt], [u_control],\n",
    "        ['x', 'p', 't', 'dt'], ['u'])\n",
    "    gen = ca.CodeGenerator(\n",
    "        'casadi_gen.c',\n",
    "        {'main': False, 'mex': False, 'with_header': True, 'with_mem': True})\n",
    "    gen.add(f_state)\n",
    "    gen.add(f_force_moment)\n",
    "    gen.add(f_control)\n",
    "    gen.add(f_u_to_fin)\n",
    "    gen.generate()\n",
    "\n",
    "\n",
    "def constrain(s, vt, gamma, m_fuel):\n",
    "    # s is our design vector:\n",
    "    m_dot = s[0]\n",
    "    alpha = s[1]\n",
    "    beta = s[2]\n",
    "    ail = s[3]\n",
    "    elev = s[4]\n",
    "    rdr = s[5]\n",
    "\n",
    "    v_b = vt*ca.vertcat(ca.cos(alpha)*ca.cos(beta), ca.sin(beta), ca.sin(alpha)*ca.cos(beta))\n",
    "\n",
    "    phi = 0\n",
    "    theta = gamma + alpha\n",
    "    psi = 0\n",
    "\n",
    "    omega_b = ca.vertcat(0, 0, 0)\n",
    "    r_nb = so3.Mrp.from_euler(ca.vertcat(phi, theta, psi))\n",
    "\n",
    "    p_n = ca.vertcat(0, 0, 0)\n",
    "\n",
    "    # vt, alpha, theta, q, h, pos\n",
    "    x = ca.vertcat(omega_b, r_nb, v_b, p_n, m_fuel)\n",
    "    \n",
    "    # mdot, aileron, elevator, rudder\n",
    "    u = ca.vertcat(m_dot, ail, elev, rdr)\n",
    "    return x, u\n",
    "\n",
    "def constraint(s, vt, gamma, m_fuel, rhs, p):\n",
    "    x, u = constrain(s, vt, gamma, m_fuel)\n",
    "    x_dot = rhs(x, u, p)\n",
    "\n",
    "    # omega_b = x[0:3]  # inertial angular velocity expressed in body frame\n",
    "    # r_nb = x[3:7]  # modified rodrigues parameters\n",
    "    # v_b = x[7:10]  # inertial velocity expressed in body components\n",
    "    # p_n = x[10:13]  # positon in nav frame\n",
    "    # m_fuel = x[13]  # mass\n",
    "    return ca.vertcat(\n",
    "        x_dot[0],\n",
    "        x_dot[1],\n",
    "        x_dot[2],\n",
    "        )\n",
    "\n",
    "def objective(s, vt, gamma, m_fuel, rhs, p):\n",
    "    x, u = constrain(s, vt, gamma, m_fuel)\n",
    "    x_dot = rhs(x, u, p)\n",
    "\n",
    "    # omega_b = x[0:3]  # inertial angular velocity expressed in body frame\n",
    "    # r_nb = x[3:7]  # modified rodrigues parameters\n",
    "    # v_b = x[7:10]  # inertial velocity expressed in body components\n",
    "    # p_n = x[10:13]  # positon in nav frame\n",
    "    # m_fuel = x[13]  # mass\n",
    "    return x_dot[7]**2 + x_dot[8]**2 + x_dot[9]**2\n",
    "\n",
    "\n",
    "def trim(vt, gamma, m_fuel, rhs, p, s0=None):\n",
    "    if s0 is None:\n",
    "        s0 = [0.1, 0, 0, 0, 0, 0]\n",
    "    s = ca.SX.sym('s', 6)\n",
    "    nlp = {'x': s,\n",
    "           'f': objective(s, vt=vt, gamma=gamma, m_fuel=m_fuel, rhs=rhs, p=p),\n",
    "            'g': constraint(s, vt=vt, gamma=gamma, m_fuel=m_fuel, rhs=rhs, p=p)}\n",
    "    S = ca.nlpsol('S', 'ipopt', nlp, {\n",
    "        'print_time': 0,\n",
    "        'ipopt': {\n",
    "            'sb': 'yes',\n",
    "            'print_level': 0,\n",
    "            }\n",
    "        })\n",
    "\n",
    "    # s = [m_dot, alpha, beta, elev, ail, rdr]\n",
    "    m_dot = s[0]\n",
    "    alpha = s[1]\n",
    "    beta = s[2]\n",
    "    ail = s[3]\n",
    "    elv = s[4]\n",
    "    rdr = s[5]\n",
    "    res = S(x0=s0,\n",
    "            lbg=[0, 0, 0], ubg=[0, 0, 0],\n",
    "            lbx=[0, -np.deg2rad(20), -np.deg2rad(20), -np.deg2rad(20), -np.deg2rad(20), -np.deg2rad(20)],\n",
    "            ubx=[10, np.deg2rad(20), np.deg2rad(20), np.deg2rad(20), np.deg2rad(20), np.deg2rad(20)]\n",
    "            )\n",
    "    stats = S.stats()\n",
    "    if not stats['success']:\n",
    "        raise ValueError('Trim failed to converge', stats['return_status'], res)\n",
    "    s_opt = res['x']\n",
    "    x0, u0 = constrain(s_opt, vt, gamma, m_fuel)\n",
    "    return {\n",
    "        'x0': np.array(ca.DM(x0)).reshape(-1),\n",
    "        'u0': np.array(ca.DM(u0)).reshape(-1),\n",
    "        's': np.array(ca.DM(s_opt)).reshape(-1),\n",
    "        'f': float(res['f']),\n",
    "        'g': np.array(ca.DM(res['g'])).reshape(-1),\n",
    "        'status': stats['return_status']\n",
    "    }\n",
    "\n",
    "\n",
    "def do_trim(vt, gamma_deg, m_fuel):\n",
    "    rocket = rocket_equations()\n",
    "    x0, p0 = rocket['initialize'](90)\n",
    "    res = trim(vt=vt, gamma=np.deg2rad(gamma_deg),\n",
    "            m_fuel=m_fuel, rhs=rocket['rhs'], p=p0)\n",
    "    s= res['s']\n",
    "    x = res['x0']\n",
    "    m_dot = s[0]\n",
    "    alpha_deg = np.rad2deg(s[1])\n",
    "    beta_deg = np.rad2deg(s[2])\n",
    "    ail_deg = np.rad2deg(s[3])\n",
    "    elv_deg = np.rad2deg(s[4])\n",
    "    rdr_deg = np.rad2deg(s[5])\n",
    "    theta_deg = gamma_deg + alpha_deg\n",
    "\n",
    "    fmt_str = 'status:\\t{:s}\\nf:\\t{:5.3f}\\ng:\\t{:s}\\nm_dot:\\t{:5.3f} kg/s\\nalpha:\\t{:5.3f} deg\\nbeta:\\t{:5.3f} deg\\n' \\\n",
    "            'ail:\\t{:5.3f} deg\\nelv:\\t{:5.3f} deg\\nrdr:\\t{:5.3f} deg\\ntheta:\\t{:5.3f} deg'\n",
    "#     print(fmt_str.format(\n",
    "#         res['status'], res['f'], str(res['g']),\n",
    "#         m_dot, alpha_deg, beta_deg, ail_deg, elv_deg, rdr_deg, theta_deg))\n",
    "\n",
    "    # s: m_dot, alpha, beta, ail, elev, rdr\n",
    "    # u:  m_dot, aileron, elevator, rudder\n",
    "    u0 = [s[0], s[3], s[4], s[5]]\n",
    "    return x, u0, p0\n",
    "    \n",
    "\n",
    "def run():\n",
    "    rocket = rocket_equations()\n",
    "    x0, p0 = rocket['initialize'](np.rad2deg(1.2))\n",
    "    # m_dot, aileron, elevator, rudder\n",
    "    data = simulate(rocket, x0, p0, tf=15)\n",
    "    analyze_data(data)\n",
    "    plt.savefig('rocket.png')\n",
    "    plt.show()\n",
    "\n",
    "def linearize():\n",
    "    eqs = rocket_equations()\n",
    "    x = eqs['x']\n",
    "    u = eqs['u']\n",
    "    p = eqs['p']\n",
    "    y = x  # state feedback\n",
    "    rhs = eqs['rhs']\n",
    "    xdot = rhs(x, u, p)\n",
    "    A = ca.jacobian(xdot, x)\n",
    "    B = ca.jacobian(xdot, u)\n",
    "    C = ca.jacobian(y, x)\n",
    "    D = ca.jacobian(y, u)\n",
    "    return ca.Function('ss', [x, u, p], [A, B, C, D],\n",
    "            ['x', 'u', 'p'], ['A', 'B', 'C', 'D'])\n",
    "\n",
    "def control_rocket(x,p,t):\n",
    "    u = ca.SX.sym('u',4)\n",
    "\n",
    "    return u\n",
    "\n",
    "\n",
    "def plan_traj():\n",
    "    path_points = [do_trim(vt=100, gamma_deg=90, m_fuel=0.8)]\n",
    "    path_points.append(do_trim(vt=100, gamma_deg= 45, m_fuel = 0.4))\n",
    "    path_points.append(do_trim(vt=100, gamma_deg = 0,m_fuel = 0))\n",
    "    lin = linearize()\n",
    "    sys = []\n",
    "    ABCDs = []\n",
    "    gam_ref = [90,45,0]\n",
    "    h_ref = [0,]\n",
    "    for i,p in enumerate(path_points):\n",
    "        x0 = p[0]\n",
    "        u0 = p[1]\n",
    "        p0 = p[2]\n",
    "        A,B,C,D = lin(x0,u0,p0)\n",
    "        ABCDs.append([A,B,C,D])\n",
    "        sys.append(control.ss(A,B,C,D))\n",
    "    \n",
    "#     A = np.array(ABCDs[0][0])\n",
    "#     B = np.array(ABCDs[0][1])\n",
    "#     v1 = np.zeros((14,1))\n",
    "#     v2 = np.zeros((1,15))\n",
    "#     v2[0,9] = -1\n",
    "#     Ai = np.vstack([np.hstack([A,v1]),v2])\n",
    "#     Bi = np.vstack([B,np.zeros(4)])\n",
    "#     print(np.shape(Ai))\n",
    "#     print(np.shape(Bi))\n",
    "#     q = zeros(15)\n",
    "#     q[14] = 40\n",
    "#     q[]\n",
    "#     K,S,E = control.lqr(Ai,Bi,)\n",
    "        \n",
    "    return sys\n",
    "\n",
    "def gain_schedule(gains1,gains2,t):\n",
    "    \n",
    "    return gains\n",
    "\n",
    "def analyze_sys(sys,H):\n",
    "    Go = sys*H\n",
    "    Gc = control.feedback(Go)\n",
    "    control.root_locus(Go)\n",
    "    \n",
    "    plt.figure()\n",
    "    plt.title('system')\n",
    "    t1,x1 = control.step_response(sys)\n",
    "    plt.plot(t1,x1)\n",
    "    \n",
    "    plt.figure()\n",
    "    plt.title('controlled system w/ step response')\n",
    "    t2,x2 = control.step_response(Gc)\n",
    "    print(x2)\n",
    "    plt.plot(t2,x2)\n"
   ]
  },
  {
   "cell_type": "code",
   "execution_count": 2,
   "metadata": {},
   "outputs": [
    {
     "name": "stdout",
     "output_type": "stream",
     "text": [
      "6 states have been removed from the model\n",
      "6 states have been removed from the model\n",
      "7 states have been removed from the model\n"
     ]
    }
   ],
   "source": [
    "#run()\n",
    "#code_generation()\n",
    "sys = plan_traj()\n",
    "\n",
    "s = control.tf([1,0],[0,1])\n",
    "#get pitch rate from elevator\n",
    "kvect = np.linspace(0,1)\n",
    "Gp1 = control.ss2tf(control.minreal(sys[0][1, 2],1e-4))\n",
    "Gp2 = control.ss2tf(control.minreal(sys[1][1, 2],1e-4))\n",
    "Gp3 = control.ss2tf(control.minreal(sys[2][1, 2],1e-4))\n"
   ]
  },
  {
   "cell_type": "code",
   "execution_count": 3,
   "metadata": {},
   "outputs": [
    {
     "data": {
      "text/latex": [
       "$$\\frac{2138 s + 208.8}{s^2 + 38.7 s + 2149}$$"
      ],
      "text/plain": [
       "\n",
       "  2138 s + 208.8\n",
       "-------------------\n",
       "s^2 + 38.7 s + 2149"
      ]
     },
     "execution_count": 3,
     "metadata": {},
     "output_type": "execute_result"
    }
   ],
   "source": [
    "Gp1"
   ]
  },
  {
   "cell_type": "code",
   "execution_count": 4,
   "metadata": {},
   "outputs": [
    {
     "name": "stdout",
     "output_type": "stream",
     "text": [
      "6 states have been removed from the model\n"
     ]
    }
   ],
   "source": [
    "G = control.ss2tf(control.minreal(sys[0][1, 2], 1e-4))\n",
    "low_pass = 100/(s+100)\n",
    "PID = 0.01*(s+20)*(s+20)/s\n",
    "H = 0.001/(2.138*s + 0.2088) \n",
    "\n",
    "#Gc = control.ss2tf(control.feedback(G*H))\n",
    "#t, y = control.step_response(Gc, T=np.linspace(0, 10, 1000))\n",
    "#plt.plot(t, y)"
   ]
  },
  {
   "cell_type": "code",
   "execution_count": 5,
   "metadata": {},
   "outputs": [
    {
     "data": {
      "image/png": "[encoded data removed]",
      "text/plain": [
       "<Figure size 432x288 with 1 Axes>"
      ]
     },
     "metadata": {
      "needs_background": "light"
     },
     "output_type": "display_data"
    }
   ],
   "source": [
    "control.rlocus(G,  kvect=np.linspace(0, 1, 1000), xlim=[-100, 0], ylim=[-30, 30]);"
   ]
  },
  {
   "cell_type": "code",
   "execution_count": 27,
   "metadata": {},
   "outputs": [
    {
     "name": "stdout",
     "output_type": "stream",
     "text": [
      "1 states have been removed from the model\n"
     ]
    }
   ],
   "source": [
    "H = 140*(s+50)*(s+50)/(s*(2138*s + 208.8))\n",
    "Go = control.minreal(G*H, 1e-4)"
   ]
  },
  {
   "cell_type": "code",
   "execution_count": 28,
   "metadata": {},
   "outputs": [
    {
     "data": {
      "text/plain": [
       "[<matplotlib.lines.Line2D at 0x7f13eface438>]"
      ]
     },
     "execution_count": 28,
     "metadata": {},
     "output_type": "execute_result"
    },
    {
     "data": {
      "image/png": "[encoded data removed]",
      "text/plain": [
       "<Figure size 432x288 with 1 Axes>"
      ]
     },
     "metadata": {
      "needs_background": "light"
     },
     "output_type": "display_data"
    }
   ],
   "source": [
    "control.rlocus(Go, kvect=np.linspace(0, 1, 1000), xlim=[-200, 0]);\n",
    "plt.plot([0, -100], [0, 100])"
   ]
  },
  {
   "cell_type": "code",
   "execution_count": 29,
   "metadata": {},
   "outputs": [
    {
     "data": {
      "text/latex": [
       "$$\\frac{140 s^2 + 1.4e+04 s + 3.5e+05}{s^3 + 178.7 s^2 + 1.615e+04 s + 3.5e+05}$$"
      ],
      "text/plain": [
       "\n",
       "     140 s^2 + 1.4e+04 s + 3.5e+05\n",
       "---------------------------------------\n",
       "s^3 + 178.7 s^2 + 1.615e+04 s + 3.5e+05"
      ]
     },
     "execution_count": 29,
     "metadata": {},
     "output_type": "execute_result"
    },
    {
     "data": {
      "image/png": "[encoded data removed]",
      "text/plain": [
       "<Figure size 432x288 with 1 Axes>"
      ]
     },
     "metadata": {
      "needs_background": "light"
     },
     "output_type": "display_data"
    }
   ],
   "source": [
    "Gc = control.feedback(Go)\n",
    "t, y = control.step_response(Gc, T=np.linspace(0, 1, 1000))\n",
    "plt.plot(t, y)\n",
    "Gc"
   ]
  },
  {
   "cell_type": "code",
   "execution_count": 30,
   "metadata": {},
   "outputs": [
    {
     "data": {
      "text/plain": [
       "[-10, 10, -10, 10]"
      ]
     },
     "execution_count": 30,
     "metadata": {},
     "output_type": "execute_result"
    },
    {
     "data": {
      "image/png": "[encoded data removed]",
      "text/plain": [
       "<Figure size 432x288 with 1 Axes>"
      ]
     },
     "metadata": {
      "needs_background": "light"
     },
     "output_type": "display_data"
    }
   ],
   "source": [
    "control.nyquist(Go);\n",
    "plt.axis('equal')\n",
    "plt.axis([-10, 10, -10, 10])"
   ]
  },
  {
   "cell_type": "code",
   "execution_count": 31,
   "metadata": {},
   "outputs": [
    {
     "data": {
      "image/png": "[encoded data removed]",
      "text/plain": [
       "<Figure size 432x288 with 2 Axes>"
      ]
     },
     "metadata": {
      "needs_background": "light"
     },
     "output_type": "display_data"
    }
   ],
   "source": [
    "control.bode(Go, margins=True, dB=True, omega=np.logspace(1, 5));"
   ]
  },
  {
   "cell_type": "code",
   "execution_count": 32,
   "metadata": {},
   "outputs": [
    {
     "data": {
      "text/plain": [
       "131.88224266569978"
      ]
     },
     "execution_count": 32,
     "metadata": {},
     "output_type": "execute_result"
    }
   ],
   "source": [
    "1/(np.deg2rad(70.25) / 161.7)"
   ]
  },
  {
   "cell_type": "code",
   "execution_count": 11,
   "metadata": {},
   "outputs": [
    {
     "data": {
      "text/latex": [
       "$$\\frac{2584 s^2 + 1111 s + 104.4}{s^3 + 64.8 s^2 + 2623 s + 1008}$$"
      ],
      "text/plain": [
       "\n",
       "  2584 s^2 + 1111 s + 104.4\n",
       "------------------------------\n",
       "s^3 + 64.8 s^2 + 2623 s + 1008"
      ]
     },
     "execution_count": 11,
     "metadata": {},
     "output_type": "execute_result"
    }
   ],
   "source": [
    "Gp2"
   ]
  },
  {
   "cell_type": "code",
   "execution_count": 12,
   "metadata": {},
   "outputs": [
    {
     "name": "stdout",
     "output_type": "stream",
     "text": [
      "6 states have been removed from the model\n"
     ]
    }
   ],
   "source": [
    "G2 = control.ss2tf(control.minreal(sys[1][1, 2], 1e-4))"
   ]
  },
  {
   "cell_type": "code",
   "execution_count": 13,
   "metadata": {},
   "outputs": [
    {
     "name": "stdout",
     "output_type": "stream",
     "text": [
      "0 states have been removed from the model\n"
     ]
    }
   ],
   "source": [
    "H2 = 100*(s+60)*(s+60)/(s*(2138*s + 208.8))\n",
    "Go2 = control.minreal(G2*H2, 1e-4)"
   ]
  },
  {
   "cell_type": "code",
   "execution_count": 14,
   "metadata": {},
   "outputs": [
    {
     "data": {
      "text/plain": [
       "[<matplotlib.lines.Line2D at 0x7f13ec952978>]"
      ]
     },
     "execution_count": 14,
     "metadata": {},
     "output_type": "execute_result"
    },
    {
     "data": {
      "image/png": "[encoded data removed]",
      "text/plain": [
       "<Figure size 432x288 with 1 Axes>"
      ]
     },
     "metadata": {
      "needs_background": "light"
     },
     "output_type": "display_data"
    }
   ],
   "source": [
    "control.rlocus(Go2, kvect=np.linspace(0, 1, 1000), xlim=[-200, 0]);\n",
    "plt.plot([0, -100], [0, 100])"
   ]
  },
  {
   "cell_type": "code",
   "execution_count": 15,
   "metadata": {},
   "outputs": [
    {
     "data": {
      "text/latex": [
       "$$\\frac{120.9 s^4 + 1.456e+04 s^3 + 4.413e+05 s^2 + 1.876e+05 s + 1.757e+04}{s^5 + 185.8 s^4 + 1.718e+04 s^3 + 4.426e+05 s^2 + 1.877e+05 s + 1.757e+04}$$"
      ],
      "text/plain": [
       "\n",
       "   120.9 s^4 + 1.456e+04 s^3 + 4.413e+05 s^2 + 1.876e+05 s + 1.757e+04\n",
       "-------------------------------------------------------------------------\n",
       "s^5 + 185.8 s^4 + 1.718e+04 s^3 + 4.426e+05 s^2 + 1.877e+05 s + 1.757e+04"
      ]
     },
     "execution_count": 15,
     "metadata": {},
     "output_type": "execute_result"
    },
    {
     "data": {
      "image/png": "[encoded data removed]",
      "text/plain": [
       "<Figure size 432x288 with 1 Axes>"
      ]
     },
     "metadata": {
      "needs_background": "light"
     },
     "output_type": "display_data"
    }
   ],
   "source": [
    "Gc2 = control.feedback(Go2)\n",
    "t2, y2 = control.step_response(Gc2, T=np.linspace(0, 1, 1000))\n",
    "plt.plot(t2, y2)\n",
    "Gc2"
   ]
  },
  {
   "cell_type": "code",
   "execution_count": 16,
   "metadata": {},
   "outputs": [
    {
     "data": {
      "image/png": "[encoded data removed]",
      "text/plain": [
       "<Figure size 432x288 with 2 Axes>"
      ]
     },
     "metadata": {
      "needs_background": "light"
     },
     "output_type": "display_data"
    }
   ],
   "source": [
    "control.bode(Go2, margins=True, dB=True, omega=np.logspace(1, 5));"
   ]
  },
  {
   "cell_type": "code",
   "execution_count": 33,
   "metadata": {},
   "outputs": [
    {
     "data": {
      "text/plain": [
       "114.99802512091595"
      ]
     },
     "execution_count": 33,
     "metadata": {},
     "output_type": "execute_result"
    }
   ],
   "source": [
    "1/(np.deg2rad(71.89) / 144.29)"
   ]
  },
  {
   "cell_type": "code",
   "execution_count": 17,
   "metadata": {},
   "outputs": [
    {
     "data": {
      "text/latex": [
       "$$\\frac{3800 s - 52.01}{s^2 + 193 s + 3813}$$"
      ],
      "text/plain": [
       "\n",
       "  3800 s - 52.01\n",
       "------------------\n",
       "s^2 + 193 s + 3813"
      ]
     },
     "execution_count": 17,
     "metadata": {},
     "output_type": "execute_result"
    }
   ],
   "source": [
    "Gp3"
   ]
  },
  {
   "cell_type": "code",
   "execution_count": 18,
   "metadata": {},
   "outputs": [
    {
     "name": "stdout",
     "output_type": "stream",
     "text": [
      "7 states have been removed from the model\n"
     ]
    }
   ],
   "source": [
    "G3 = control.ss2tf(control.minreal(sys[2][1, 2], 1e-4))"
   ]
  },
  {
   "cell_type": "code",
   "execution_count": 19,
   "metadata": {},
   "outputs": [
    {
     "name": "stdout",
     "output_type": "stream",
     "text": [
      "0 states have been removed from the model\n"
     ]
    }
   ],
   "source": [
    "H3 = 100*(s+60)*(s+60)/(s*(2138*s + 208.8))\n",
    "Go3 = control.minreal(G3*H3, 1e-4)"
   ]
  },
  {
   "cell_type": "code",
   "execution_count": 20,
   "metadata": {},
   "outputs": [
    {
     "data": {
      "text/plain": [
       "[<matplotlib.lines.Line2D at 0x7f13ecb415f8>]"
      ]
     },
     "execution_count": 20,
     "metadata": {},
     "output_type": "execute_result"
    },
    {
     "data": {
      "image/png": "[encoded data removed]",
      "text/plain": [
       "<Figure size 432x288 with 1 Axes>"
      ]
     },
     "metadata": {
      "needs_background": "light"
     },
     "output_type": "display_data"
    }
   ],
   "source": [
    "control.rlocus(Go3, kvect=np.linspace(0, 1, 1000), xlim=[-200, 0]);\n",
    "plt.plot([0, -100], [0, 100])"
   ]
  },
  {
   "cell_type": "code",
   "execution_count": 21,
   "metadata": {},
   "outputs": [
    {
     "data": {
      "text/latex": [
       "$$\\frac{177.7 s^3 + 2.133e+04 s^2 + 6.396e+05 s - 8757}{s^4 + 370.9 s^3 + 2.516e+04 s^2 + 6.4e+05 s - 8757}$$"
      ],
      "text/plain": [
       "\n",
       "  177.7 s^3 + 2.133e+04 s^2 + 6.396e+05 s - 8757\n",
       "--------------------------------------------------\n",
       "s^4 + 370.9 s^3 + 2.516e+04 s^2 + 6.4e+05 s - 8757"
      ]
     },
     "execution_count": 21,
     "metadata": {},
     "output_type": "execute_result"
    },
    {
     "data": {
      "image/png": "[encoded data removed]",
      "text/plain": [
       "<Figure size 432x288 with 1 Axes>"
      ]
     },
     "metadata": {
      "needs_background": "light"
     },
     "output_type": "display_data"
    }
   ],
   "source": [
    "Gc3 = control.feedback(Go3)\n",
    "t3, y3 = control.step_response(Gc3, T=np.linspace(0, 1, 1000))\n",
    "plt.plot(t3, y3)\n",
    "Gc3"
   ]
  },
  {
   "cell_type": "code",
   "execution_count": 22,
   "metadata": {},
   "outputs": [
    {
     "name": "stderr",
     "output_type": "stream",
     "text": [
      "/home/taehwan/anaconda3/envs/rocket/lib/python3.7/site-packages/control/freqplot.py:301: RuntimeWarning: divide by zero encountered in log10\n",
      "  [-20.*np.log10(gm), -1e5],\n",
      "/home/taehwan/anaconda3/envs/rocket/lib/python3.7/site-packages/control/freqplot.py:304: RuntimeWarning: divide by zero encountered in log10\n",
      "  ax_mag.semilogx([Wcg, Wcg], [0,-20*np.log10(gm)],\n",
      "/home/taehwan/anaconda3/envs/rocket/lib/python3.7/site-packages/control/freqplot.py:347: RuntimeWarning: divide by zero encountered in log10\n",
      "  (20*np.log10(gm) if dB else gm,\n"
     ]
    },
    {
     "data": {
      "image/png": "[encoded data removed]",
      "text/plain": [
       "<Figure size 432x288 with 2 Axes>"
      ]
     },
     "metadata": {
      "needs_background": "light"
     },
     "output_type": "display_data"
    }
   ],
   "source": [
    "control.bode(Go3, margins=True, dB=True, omega=np.logspace(1, 5));"
   ]
  },
  {
   "cell_type": "code",
   "execution_count": 34,
   "metadata": {},
   "outputs": [
    {
     "data": {
      "text/plain": [
       "71.3996987943505"
      ]
     },
     "execution_count": 34,
     "metadata": {},
     "output_type": "execute_result"
    }
   ],
   "source": [
    "1/(np.deg2rad(102.86) / 128.18)"
   ]
  },
  {
   "cell_type": "code",
   "execution_count": null,
   "metadata": {},
   "outputs": [],
   "source": []
  }
 ],
 "metadata": {
  "kernelspec": {
   "display_name": "Python 3",
   "language": "python",
   "name": "python3"
  },
  "language_info": {
   "codemirror_mode": {
    "name": "ipython",
    "version": 3
   },
   "file_extension": ".py",
   "mimetype": "text/x-python",
   "name": "python",
   "nbconvert_exporter": "python",
   "pygments_lexer": "ipython3",
   "version": "3.7.3"
  }
 },
 "nbformat": 4,
 "nbformat_minor": 4
}
